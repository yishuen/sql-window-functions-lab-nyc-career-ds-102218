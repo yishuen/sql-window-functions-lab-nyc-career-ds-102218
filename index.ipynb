{
 "cells": [
  {
   "cell_type": "markdown",
   "metadata": {},
   "source": [
    "# Window Functions Lab"
   ]
  },
  {
   "cell_type": "markdown",
   "metadata": {},
   "source": [
    "In this lab we will use window functions to write queries over certain segments, or \"windows\", of a larger table.  We will use the `OVER()` keyword in conjunction with `PARTITION BY` to perform aggregate functions on specific rows of the table."
   ]
  },
  {
   "cell_type": "markdown",
   "metadata": {},
   "source": [
    "## Objectives\n",
    "\n",
    "1.  Understand window functions and how they simplify queries that operate on segments of a table\n",
    "2.  Become comfortable declaring windows with the `OVER()` clause\n",
    "3.  Practice operating on different segments of the table with the `PARTITION BY` clause\n",
    "4.  Differentiate between using `ORDER BY` inside and outside the window function\n",
    "5.  Use the `DISTINCT` keyword to remove duplicate results"
   ]
  },
  {
   "cell_type": "markdown",
   "metadata": {},
   "source": [
    "## Working with Postgresql\n",
    "\n",
    "Window functions are a relatively new addition to the SQL language.  As of today, window functions are not yet supported by SQLite3, so it's finally time to begin working with Postgres, which is a more powerful form of the database.\n",
    "\n",
    "First, [click here](https://postgresapp.com/) to download the Postgres app.  Once we have downloaded the app, we can search for \"Postgres\" in spotlight (the magnifying glass at the top right of our navigation bar) to open and run the application.  Double click on the \"postgres\" barrel icon to bring up a Postgres terminal.\n",
    "\n",
    "From the Postgres terminal, enter the following command to create the database we will be using for this lab:\n",
    "\n",
    "> `CREATE DATABASE window_functions_db;`\n",
    "\n",
    "Now let's create our table and populate it with data.  The code for accomplishing this task already exists in `seed.sql`!  We can execute this code by entering the following command into the terminal:\n",
    "\n",
    "`psql window_functions_db < seed.sql`\n",
    "\n",
    "And we are all set! Now, on to the lab..."
   ]
  },
  {
   "cell_type": "markdown",
   "metadata": {},
   "source": [
    "## Record Store Sales\n",
    "\n",
    "Records-R-Sweet is a startup retail company aiming to repopularize record collecting despite the ubiquity of digital music and smartphones.  Records-R-Sweet has opened retail stores in several cities, including Manhattan, Brooklyn, Washington, D.C., Houston, and London.  We have been hired to track various aspects of the company's sales data across all its locations.  The company has provided us with a table of information, as seen below:\n",
    "\n",
    "|date_of_sale|location  |amount|\n",
    "|------------|----------|------|\n",
    "|2018-04-21  |New York  |50    |\n",
    "|2018-04-21  |New York  |40    |\n",
    "|2018-04-22  |New York  |60    |\n",
    "|2018-04-22  |New York  |30    |\n",
    "|2018-04-22  |New York  |30    |\n",
    "|2018-04-23  |New York  |30    |\n",
    "|2018-04-23  |New York  |80    |\n",
    "|2018-04-21  |Brooklyn  |90    |\n",
    "|2018-04-22  |Brooklyn  |80    |\n",
    "|2018-04-22  |Brooklyn  |80    |\n",
    "|2018-04-22  |Brooklyn  |70    |\n",
    "|2018-04-23  |Brooklyn  |90    |\n",
    "|2018-04-23  |Brooklyn  |80    |\n",
    "|2018-04-21  |Washington|20    |\n",
    "|2018-04-21  |Washington|30    |\n",
    "|2018-04-21  |Washington|20    |\n",
    "|2018-04-22  |Washington|30    |\n",
    "|2018-04-22  |Washington|40    |\n",
    "|2018-04-23  |Washington|20    |\n",
    "|2018-04-21  |Houston   |25    |\n",
    "|2018-04-22  |Houston   |30    |\n",
    "|2018-04-23  |Houston   |35    |\n",
    "|2018-04-23  |Houston   |25    |\n",
    "|2018-04-21  |London    |100   |\n",
    "|2018-04-22  |London    |50    |\n",
    "|2018-04-22  |London    |75    |\n",
    "|2018-04-23  |London    |45    |"
   ]
  },
  {
   "cell_type": "markdown",
   "metadata": {},
   "source": [
    "The table tracks sales across all Records-R-Sweet for three days, April 21-23.  Each store registered at least one sale per day.  Our task is to write window functions to make comparisons across stores to see which stores do the most business.  We also will determine how Records-R-Sweet's business fluctuates day-to-day."
   ]
  },
  {
   "cell_type": "markdown",
   "metadata": {},
   "source": [
    "## Queries\n",
    "\n",
    "Write your queries in the `window_function.py` file to get the tests to pass.  As always, each query should be wrapped in a string inside each function.\n",
    "\n",
    "#### 1. select_distinct_total_location_sales_on_april_23\n",
    "\n",
    "For all locations, select the location and its total sales for the day April 23, 2018."
   ]
  },
  {
   "cell_type": "markdown",
   "metadata": {},
   "source": [
    "#### 2.  select_distinct_location_and_avg_amount_partitioned_by_location\n",
    "\n",
    "For all locations, select the location and its average sales over the three day period."
   ]
  },
  {
   "cell_type": "markdown",
   "metadata": {},
   "source": [
    "#### 3.  select_distinct_date_and_total_company_wide_sales_split_by_date_ordered_by_date\n",
    "\n",
    "Select the date and the company-wide sales for that day.  The resulting dataset should appear in chronological order from April 21 to April 23."
   ]
  },
  {
   "cell_type": "markdown",
   "metadata": {},
   "source": [
    "#### 4.  select_rank_the_sales_of_each_location_from_highest_to_lowest\n",
    "\n",
    "\n",
    "Rank each store's individual sales (that is, not the store's daily total) from lowest to highest.  The query should select the location, the amount of the sale, and the sale's ranking.  The rankings should be ordered from highest to lowest, and make sure they rank each location's sales and not the overall company's sales."
   ]
  }
 ],
 "metadata": {
  "kernelspec": {
   "display_name": "Python 3",
   "language": "python",
   "name": "python3"
  },
  "language_info": {
   "codemirror_mode": {
    "name": "ipython",
    "version": 3
   },
   "file_extension": ".py",
   "mimetype": "text/x-python",
   "name": "python",
   "nbconvert_exporter": "python",
   "pygments_lexer": "ipython3",
   "version": "3.6.6"
  }
 },
 "nbformat": 4,
 "nbformat_minor": 2
}
